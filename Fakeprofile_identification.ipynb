{
  "nbformat": 4,
  "nbformat_minor": 0,
  "metadata": {
    "colab": {
      "provenance": []
    },
    "kernelspec": {
      "name": "python3",
      "display_name": "Python 3"
    },
    "language_info": {
      "name": "python"
    }
  },
  "cells": [
    {
      "cell_type": "code",
      "source": [
        "!pip install gender-guesser"
      ],
      "metadata": {
        "colab": {
          "base_uri": "https://localhost:8080/"
        },
        "id": "0W_0ZVtF0VOn",
        "outputId": "956b3c19-dd09-455b-eda7-60c76119a34f"
      },
      "execution_count": 103,
      "outputs": [
        {
          "output_type": "stream",
          "name": "stdout",
          "text": [
            "Looking in indexes: https://pypi.org/simple, https://us-python.pkg.dev/colab-wheels/public/simple/\n",
            "Collecting gender-guesser\n",
            "  Downloading gender_guesser-0.4.0-py2.py3-none-any.whl (379 kB)\n",
            "\u001b[2K     \u001b[90m━━━━━━━━━━━━━━━━━━━━━━━━━━━━━━━━━━━━━━━\u001b[0m \u001b[32m379.3/379.3 KB\u001b[0m \u001b[31m8.8 MB/s\u001b[0m eta \u001b[36m0:00:00\u001b[0m\n",
            "\u001b[?25hInstalling collected packages: gender-guesser\n",
            "Successfully installed gender-guesser-0.4.0\n"
          ]
        }
      ]
    },
    {
      "cell_type": "code",
      "source": [
        "!pip install numpy\n",
        "!pip install scipy\n",
        "!pip install pybrain"
      ],
      "metadata": {
        "colab": {
          "base_uri": "https://localhost:8080/"
        },
        "id": "nF6_NH02owzf",
        "outputId": "1923262f-d868-488d-c81a-12121b0d8ac2"
      },
      "execution_count": 18,
      "outputs": [
        {
          "output_type": "stream",
          "name": "stdout",
          "text": [
            "Looking in indexes: https://pypi.org/simple, https://us-python.pkg.dev/colab-wheels/public/simple/\n",
            "Requirement already satisfied: numpy in /usr/local/lib/python3.8/dist-packages (1.22.4)\n",
            "Looking in indexes: https://pypi.org/simple, https://us-python.pkg.dev/colab-wheels/public/simple/\n",
            "Requirement already satisfied: scipy in /usr/local/lib/python3.8/dist-packages (1.7.3)\n",
            "Requirement already satisfied: numpy<1.23.0,>=1.16.5 in /usr/local/lib/python3.8/dist-packages (from scipy) (1.22.4)\n",
            "Looking in indexes: https://pypi.org/simple, https://us-python.pkg.dev/colab-wheels/public/simple/\n",
            "Requirement already satisfied: pybrain in /usr/local/lib/python3.8/dist-packages (0.3.1)\n",
            "Requirement already satisfied: scipy in /usr/local/lib/python3.8/dist-packages (from pybrain) (1.7.3)\n",
            "Requirement already satisfied: numpy<1.23.0,>=1.16.5 in /usr/local/lib/python3.8/dist-packages (from scipy->pybrain) (1.22.4)\n"
          ]
        }
      ]
    },
    {
      "cell_type": "code",
      "source": [
        "!pip uninstall h5py\n",
        "!pip install h5py==2.10.0"
      ],
      "metadata": {
        "colab": {
          "base_uri": "https://localhost:8080/"
        },
        "id": "_lRcUJYksXkS",
        "outputId": "a40d5179-e390-4df6-d53a-9c4604368647"
      },
      "execution_count": 40,
      "outputs": [
        {
          "output_type": "stream",
          "name": "stdout",
          "text": [
            "Found existing installation: h5py 3.1.0\n",
            "Uninstalling h5py-3.1.0:\n",
            "  Would remove:\n",
            "    /usr/local/lib/python3.8/dist-packages/h5py-3.1.0.dist-info/*\n",
            "    /usr/local/lib/python3.8/dist-packages/h5py.libs/libaec-9c9e97eb.so.0.0.10\n",
            "    /usr/local/lib/python3.8/dist-packages/h5py.libs/libhdf5-00e8fae8.so.200.0.0\n",
            "    /usr/local/lib/python3.8/dist-packages/h5py.libs/libhdf5_hl-383c339f.so.200.0.0\n",
            "    /usr/local/lib/python3.8/dist-packages/h5py.libs/libsz-e7aa62f5.so.2.0.1\n",
            "    /usr/local/lib/python3.8/dist-packages/h5py.libs/libz-eb09ad1d.so.1.2.3\n",
            "    /usr/local/lib/python3.8/dist-packages/h5py/*\n",
            "Proceed (Y/n)? y\n",
            "  Successfully uninstalled h5py-3.1.0\n",
            "Looking in indexes: https://pypi.org/simple, https://us-python.pkg.dev/colab-wheels/public/simple/\n",
            "Collecting h5py==2.10.0\n",
            "  Downloading h5py-2.10.0-cp38-cp38-manylinux1_x86_64.whl (2.9 MB)\n",
            "\u001b[2K     \u001b[90m━━━━━━━━━━━━━━━━━━━━━━━━━━━━━━━━━━━━━━━━\u001b[0m \u001b[32m2.9/2.9 MB\u001b[0m \u001b[31m42.5 MB/s\u001b[0m eta \u001b[36m0:00:00\u001b[0m\n",
            "\u001b[?25hRequirement already satisfied: six in /usr/local/lib/python3.8/dist-packages (from h5py==2.10.0) (1.15.0)\n",
            "Requirement already satisfied: numpy>=1.7 in /usr/local/lib/python3.8/dist-packages (from h5py==2.10.0) (1.22.4)\n",
            "Installing collected packages: h5py\n",
            "Successfully installed h5py-2.10.0\n"
          ]
        }
      ]
    },
    {
      "cell_type": "code",
      "execution_count": 92,
      "metadata": {
        "id": "upzRqj3WoVVX"
      },
      "outputs": [],
      "source": [
        "import sys\n",
        "import csv\n",
        "import os\n",
        "import datetime\n",
        "import math\n",
        "import numpy as np\n",
        "import pandas as pd\n",
        "import matplotlib.pyplot as plt\n",
        "from datetime import datetime\n",
        "import sexmachine.detector as gender\n",
        "from sklearn.impute import SimpleImputer\n",
        "from sklearn.model_selection import cross_validate\n",
        "#from sklearn import cross_validation\n",
        "from sklearn import metrics\n",
        "from sklearn import preprocessing\n",
        "from sklearn.linear_model import LinearRegression\n",
        "from  sklearn.ensemble import RandomForestClassifier\n",
        "from sklearn.decomposition import PCA\n",
        "from sklearn.model_selection import train_test_split\n",
        "#from sklearn.cross_validation import StratifiedKFold, train_test_split\n",
        "from sklearn.model_selection import GridSearchCV\n",
        "#from sklearn.grid_search import GridSearchCV\n",
        "from sklearn.metrics import accuracy_score\n",
        "#from sklearn.learning_curve import learning_curve\n",
        "from sklearn.model_selection import learning_curve, GridSearchCV\n",
        "from sklearn.metrics import roc_curve, auc ,roc_auc_score\n",
        "from sklearn.metrics import confusion_matrix\n",
        "from sklearn.metrics import classification_report\n",
        "%matplotlib inline "
      ]
    },
    {
      "cell_type": "code",
      "source": [
        "from sklearn.svm import SVC"
      ],
      "metadata": {
        "id": "9JHGHvpZ4SAz"
      },
      "execution_count": 120,
      "outputs": []
    },
    {
      "cell_type": "code",
      "source": [
        "def read_datasets():\n",
        "    \"\"\" Reads users profile from csv files \"\"\"\n",
        "    genuine_users = pd.read_csv(\"/content/drive/MyDrive/FakeProfile/users.csv\")\n",
        "    fake_users = pd.read_csv(\"/content/drive/MyDrive/FakeProfile/fusers.csv\")\n",
        "    print (genuine_users.columns)\n",
        "    print (genuine_users.describe())\n",
        "    print (fake_users.describe())\n",
        "    x=pd.concat([genuine_users,fake_users])   \n",
        "    y=len(fake_users)*[0] + len(genuine_users)*[1]\n",
        "    return x,y"
      ],
      "metadata": {
        "id": "RM2c4j-wt9uW"
      },
      "execution_count": 94,
      "outputs": []
    },
    {
      "cell_type": "code",
      "source": [
        "import gender_guesser.detector as gender\n",
        "\n",
        "def predict_sex(name):\n",
        "    sex_predictor = gender.Detector(case_sensitive=False)\n",
        "    first_name = name.str.split(' ').str.get(0)\n",
        "    sex = first_name.apply(sex_predictor.get_gender)\n",
        "    sex_dict = {'female': -2, 'mostly_female': -1, 'andy': 0, 'unknown': 0, 'mostly_male': 1, 'male': 2}\n",
        "    sex_code = sex.map(sex_dict).astype(int)\n",
        "    return sex_code"
      ],
      "metadata": {
        "id": "EzUypDybykRg"
      },
      "execution_count": 104,
      "outputs": []
    },
    {
      "cell_type": "code",
      "source": [
        "def extract_features(x):\n",
        "    lang_list = list(enumerate(np.unique(x['lang'])))   \n",
        "    lang_dict = { name : i for i, name in lang_list }             \n",
        "    x.loc[:,'lang_code'] = x['lang'].map( lambda x: lang_dict[x]).astype(int)    \n",
        "    x.loc[:,'sex_code'] = predict_sex(x['name'])\n",
        "    feature_columns_to_use = ['statuses_count','followers_count','friends_count','favourites_count','listed_count','sex_code','lang_code']\n",
        "    x = x.loc[:,feature_columns_to_use]\n",
        "    return x"
      ],
      "metadata": {
        "id": "WE-nw4y6uZ-G"
      },
      "execution_count": 105,
      "outputs": []
    },
    {
      "cell_type": "code",
      "source": [
        "def plot_learning_curve(estimator, title, X, y, ylim=None, cv=None,\n",
        "                        n_jobs=1, train_sizes=np.linspace(.1, 1.0, 5)):\n",
        "    plt.figure()\n",
        "    plt.title(title)\n",
        "    if ylim is not None:\n",
        "        plt.ylim(*ylim)\n",
        "    plt.xlabel(\"Training examples\")\n",
        "    plt.ylabel(\"Score\")\n",
        "    train_sizes, train_scores, test_scores = learning_curve(\n",
        "        estimator, X, y, cv=cv, n_jobs=n_jobs, train_sizes=train_sizes)\n",
        "    train_scores_mean = np.mean(train_scores, axis=1)\n",
        "    train_scores_std = np.std(train_scores, axis=1)\n",
        "    test_scores_mean = np.mean(test_scores, axis=1)\n",
        "    test_scores_std = np.std(test_scores, axis=1)\n",
        "    plt.grid()\n",
        "\n",
        "    plt.fill_between(train_sizes, train_scores_mean - train_scores_std,\n",
        "                     train_scores_mean + train_scores_std, alpha=0.1,\n",
        "                     color=\"r\")\n",
        "    plt.fill_between(train_sizes, test_scores_mean - test_scores_std,\n",
        "                     test_scores_mean + test_scores_std, alpha=0.1, color=\"g\")\n",
        "    plt.plot(train_sizes, train_scores_mean, 'o-', color=\"r\",\n",
        "             label=\"Training score\")\n",
        "    plt.plot(train_sizes, test_scores_mean, 'o-', color=\"g\",\n",
        "             label=\"Cross-validation score\")\n",
        "\n",
        "    plt.legend(loc=\"best\")\n",
        "    return plt"
      ],
      "metadata": {
        "id": "MzBSxXPOudLC"
      },
      "execution_count": 106,
      "outputs": []
    },
    {
      "cell_type": "code",
      "source": [
        "def plot_confusion_matrix(cm, title='Confusion matrix', cmap=plt.cm.Blues):\n",
        "    target_names=['Fake','Genuine']\n",
        "    plt.imshow(cm, interpolation='nearest', cmap=cmap)\n",
        "    plt.title(title)\n",
        "    plt.colorbar()\n",
        "    tick_marks = np.arange(len(target_names))\n",
        "    plt.xticks(tick_marks, target_names, rotation=45)\n",
        "    plt.yticks(tick_marks, target_names)\n",
        "    plt.tight_layout()\n",
        "    plt.ylabel('True label')\n",
        "    plt.xlabel('Predicted label')"
      ],
      "metadata": {
        "id": "dpcFAsW5uglC"
      },
      "execution_count": 107,
      "outputs": []
    },
    {
      "cell_type": "code",
      "source": [
        "def plot_roc_curve(y_test, y_pred):\n",
        "    false_positive_rate, true_positive_rate, thresholds = roc_curve(y_test, y_pred)\n",
        "    print (\"False Positive rate: \",false_positive_rate)\n",
        "    print (\"True Positive rate: \",true_positive_rate)\n",
        "    \n",
        "    roc_auc = auc(false_positive_rate, true_positive_rate)\n",
        "\n",
        "    plt.title('Receiver Operating Characteristic')\n",
        "    plt.plot(false_positive_rate, true_positive_rate, 'b',\n",
        "    label='AUC = %0.2f'% roc_auc)\n",
        "    plt.legend(loc='lower right')\n",
        "    plt.plot([0,1],[0,1],'r--')\n",
        "    plt.xlim([-0.1,1.2])\n",
        "    plt.ylim([-0.1,1.2])\n",
        "    plt.ylabel('True Positive Rate')\n",
        "    plt.xlabel('False Positive Rate')\n",
        "    plt.show()"
      ],
      "metadata": {
        "id": "Wnmvd-3kundF"
      },
      "execution_count": 108,
      "outputs": []
    },
    {
      "cell_type": "code",
      "source": [
        "from sklearn import model_selection\n",
        "from sklearn.model_selection import cross_val_score"
      ],
      "metadata": {
        "id": "ZKEmbD0W9zXN"
      },
      "execution_count": 131,
      "outputs": []
    },
    {
      "cell_type": "code",
      "source": [
        "def train(X_train,y_train,X_test):\n",
        "    \"\"\" Trains and predicts dataset with a SVM classifier \"\"\"\n",
        "    # Scaling features\n",
        "    X_train=preprocessing.scale(X_train)\n",
        "    X_test=preprocessing.scale(X_test)\n",
        "\n",
        "    Cs = 10.0 ** np.arange(-2,3,.5)\n",
        "    gammas = 10.0 ** np.arange(-2,3,.5)\n",
        "    param = [{'gamma': gammas, 'C': Cs}]\n",
        "    cvk = StratifiedKFold(n_splits=5, shuffle=True)\n",
        "    classifier = SVC()\n",
        "    clf = GridSearchCV(classifier,param_grid=param,cv=cvk)\n",
        "    clf.fit(X_train,y_train)\n",
        "    print(\"The best classifier is: \",clf.best_estimator_)\n",
        "    clf.best_estimator_.fit(X_train,y_train)\n",
        "    # Estimate score\n",
        "    scores = model_selection.cross_val_score(clf.best_estimator_, X_train,y_train, cv=5)\n",
        "    print (scores)\n",
        "    print('Estimated score: %0.5f (+/- %0.5f)' % (scores.mean(), scores.std() / 2))\n",
        "    title = 'Learning Curves (SVM, rbf kernel, )' %clf.best_estimator_.gamma\n",
        "    plot_learning_curve(clf.best_estimator_, title, X_train, y_train, cv=5)\n",
        "    plt.show()\n",
        "    # Predict class\n",
        "    y_pred = clf.best_estimator_.predict(X_test)\n",
        "    return y_test,y_pred"
      ],
      "metadata": {
        "id": "YsaeR4mbuuyG"
      },
      "execution_count": 132,
      "outputs": []
    },
    {
      "cell_type": "code",
      "source": [
        "print (\"reading datasets.....\\n\")\n",
        "x,y=read_datasets()"
      ],
      "metadata": {
        "colab": {
          "base_uri": "https://localhost:8080/"
        },
        "id": "9r6I8bXNvSDH",
        "outputId": "e5c9de6b-a174-4337-dd38-d7ee8aa2cdc1"
      },
      "execution_count": 133,
      "outputs": [
        {
          "output_type": "stream",
          "name": "stdout",
          "text": [
            "reading datasets.....\n",
            "\n",
            "Index(['id', 'name', 'screen_name', 'statuses_count', 'followers_count',\n",
            "       'friends_count', 'favourites_count', 'listed_count', 'created_at',\n",
            "       'url', 'lang', 'time_zone', 'location', 'default_profile',\n",
            "       'default_profile_image', 'geo_enabled', 'profile_image_url',\n",
            "       'profile_banner_url', 'profile_use_background_image',\n",
            "       'profile_background_image_url_https', 'profile_text_color',\n",
            "       'profile_image_url_https', 'profile_sidebar_border_color',\n",
            "       'profile_background_tile', 'profile_sidebar_fill_color',\n",
            "       'profile_background_image_url', 'profile_background_color',\n",
            "       'profile_link_color', 'utc_offset', 'protected', 'verified',\n",
            "       'description', 'updated', 'dataset'],\n",
            "      dtype='object')\n",
            "                 id  statuses_count  followers_count  friends_count  \\\n",
            "count  1.481000e+03     1481.000000      1481.000000    1481.000000   \n",
            "mean   4.000432e+08     3140.782579       690.922350     403.128292   \n",
            "std    2.961304e+08     6391.957957     11058.508986     610.572368   \n",
            "min    3.610511e+06        3.000000         0.000000       0.000000   \n",
            "25%    1.572905e+08      315.000000        45.000000     115.000000   \n",
            "50%    3.822478e+08      992.000000       102.000000     226.000000   \n",
            "75%    5.229255e+08     3029.000000       259.000000     437.000000   \n",
            "max    1.219743e+09    79876.000000    408372.000000   12773.000000   \n",
            "\n",
            "       favourites_count  listed_count  default_profile  default_profile_image  \\\n",
            "count       1481.000000   1481.000000            397.0                    4.0   \n",
            "mean         439.611749      5.360567              1.0                    1.0   \n",
            "std         1970.556008     32.183232              0.0                    0.0   \n",
            "min            0.000000      0.000000              1.0                    1.0   \n",
            "25%            4.000000      0.000000              1.0                    1.0   \n",
            "50%           29.000000      1.000000              1.0                    1.0   \n",
            "75%          176.000000      2.000000              1.0                    1.0   \n",
            "max        44349.000000    744.000000              1.0                    1.0   \n",
            "\n",
            "       geo_enabled  profile_use_background_image  profile_background_tile  \\\n",
            "count        719.0                        1423.0                    486.0   \n",
            "mean           1.0                           1.0                      1.0   \n",
            "std            0.0                           0.0                      0.0   \n",
            "min            1.0                           1.0                      1.0   \n",
            "25%            1.0                           1.0                      1.0   \n",
            "50%            1.0                           1.0                      1.0   \n",
            "75%            1.0                           1.0                      1.0   \n",
            "max            1.0                           1.0                      1.0   \n",
            "\n",
            "         utc_offset  protected  verified  \n",
            "count   1063.000000        0.0       0.0  \n",
            "mean    1535.841957        NaN       NaN  \n",
            "std     7805.690161        NaN       NaN  \n",
            "min   -39600.000000        NaN       NaN  \n",
            "25%     3600.000000        NaN       NaN  \n",
            "50%     3600.000000        NaN       NaN  \n",
            "75%     3600.000000        NaN       NaN  \n",
            "max    36000.000000        NaN       NaN  \n",
            "                 id  statuses_count  followers_count  friends_count  \\\n",
            "count  1.337000e+03     1337.000000      1337.000000    1337.000000   \n",
            "mean   6.897381e+08       45.442034        16.842184     386.761406   \n",
            "std    2.135086e+08       97.765536         8.011299     210.139672   \n",
            "min    3.738459e+07        0.000000         0.000000       0.000000   \n",
            "25%    6.163001e+08       26.000000        13.000000     278.000000   \n",
            "50%    6.170879e+08       36.000000        18.000000     344.000000   \n",
            "75%    6.192317e+08       53.000000        22.000000     538.000000   \n",
            "max    1.391998e+09     1576.000000        73.000000    1998.000000   \n",
            "\n",
            "       favourites_count  listed_count  url  default_profile  \\\n",
            "count       1337.000000   1337.000000  0.0           1331.0   \n",
            "mean           7.383695      0.002992  NaN              1.0   \n",
            "std           89.155940      0.054636  NaN              0.0   \n",
            "min            0.000000      0.000000  NaN              1.0   \n",
            "25%            0.000000      0.000000  NaN              1.0   \n",
            "50%            0.000000      0.000000  NaN              1.0   \n",
            "75%            0.000000      0.000000  NaN              1.0   \n",
            "max         1402.000000      1.000000  NaN              1.0   \n",
            "\n",
            "       default_profile_image  geo_enabled  profile_use_background_image  \\\n",
            "count                    4.0          2.0                        1337.0   \n",
            "mean                     1.0          1.0                           1.0   \n",
            "std                      0.0          0.0                           0.0   \n",
            "min                      1.0          1.0                           1.0   \n",
            "25%                      1.0          1.0                           1.0   \n",
            "50%                      1.0          1.0                           1.0   \n",
            "75%                      1.0          1.0                           1.0   \n",
            "max                      1.0          1.0                           1.0   \n",
            "\n",
            "       profile_background_tile    utc_offset  protected  verified  \n",
            "count                      3.0      6.000000        0.0       0.0  \n",
            "mean                       1.0  -8700.000000        NaN       NaN  \n",
            "std                        0.0  31247.847926        NaN       NaN  \n",
            "min                        1.0 -39600.000000        NaN       NaN  \n",
            "25%                        1.0 -36000.000000        NaN       NaN  \n",
            "50%                        1.0  -8100.000000        NaN       NaN  \n",
            "75%                        1.0  19800.000000        NaN       NaN  \n",
            "max                        1.0  19800.000000        NaN       NaN  \n"
          ]
        }
      ]
    },
    {
      "cell_type": "code",
      "source": [
        "print (\"extracting featues.....\\n\")\n",
        "x=(extract_features(x))"
      ],
      "metadata": {
        "colab": {
          "base_uri": "https://localhost:8080/"
        },
        "id": "MzUdZBmJvnGd",
        "outputId": "eb96306d-fd50-48ab-c198-12ea506022ca"
      },
      "execution_count": 111,
      "outputs": [
        {
          "output_type": "stream",
          "name": "stdout",
          "text": [
            "extracting featues.....\n",
            "\n"
          ]
        }
      ]
    },
    {
      "cell_type": "code",
      "source": [
        "print (x.columns)\n",
        "print (x.describe())"
      ],
      "metadata": {
        "colab": {
          "base_uri": "https://localhost:8080/"
        },
        "id": "00A8F2yoyzdB",
        "outputId": "814c14e0-3fde-4c3b-e2dd-466244fef0b7"
      },
      "execution_count": 112,
      "outputs": [
        {
          "output_type": "stream",
          "name": "stdout",
          "text": [
            "Index(['statuses_count', 'followers_count', 'friends_count',\n",
            "       'favourites_count', 'listed_count', 'sex_code', 'lang_code'],\n",
            "      dtype='object')\n",
            "       statuses_count  followers_count  friends_count  favourites_count  \\\n",
            "count     2818.000000      2818.000000    2818.000000       2818.000000   \n",
            "mean      1672.198368       371.105039     395.363023        234.541164   \n",
            "std       4884.669157      8022.631339     465.694322       1445.847248   \n",
            "min          0.000000         0.000000       0.000000          0.000000   \n",
            "25%         35.000000        17.000000     168.000000          0.000000   \n",
            "50%         77.000000        26.000000     306.000000          0.000000   \n",
            "75%       1087.750000       111.000000     519.000000         37.000000   \n",
            "max      79876.000000    408372.000000   12773.000000      44349.000000   \n",
            "\n",
            "       listed_count     sex_code    lang_code  \n",
            "count   2818.000000  2818.000000  2818.000000  \n",
            "mean       2.818666    -0.191270     2.851313  \n",
            "std       23.480430     1.685612     1.992950  \n",
            "min        0.000000    -2.000000     0.000000  \n",
            "25%        0.000000    -2.000000     1.000000  \n",
            "50%        0.000000     0.000000     1.000000  \n",
            "75%        1.000000     2.000000     5.000000  \n",
            "max      744.000000     2.000000     7.000000  \n"
          ]
        }
      ]
    },
    {
      "cell_type": "code",
      "source": [
        "print (\"spliting datasets in train and test dataset...\\n\")\n",
        "X_train,X_test,y_train,y_test = train_test_split(x, y, test_size=0.20, random_state=44)"
      ],
      "metadata": {
        "colab": {
          "base_uri": "https://localhost:8080/"
        },
        "id": "eTcz0-7j1bUg",
        "outputId": "0c9c954b-e32e-4a99-eb02-13612e72a7a4"
      },
      "execution_count": 113,
      "outputs": [
        {
          "output_type": "stream",
          "name": "stdout",
          "text": [
            "spliting datasets in train and test dataset...\n",
            "\n"
          ]
        }
      ]
    },
    {
      "cell_type": "code",
      "source": [
        "from sklearn.model_selection import StratifiedKFold"
      ],
      "metadata": {
        "id": "7GjJCKlV2NGu"
      },
      "execution_count": 115,
      "outputs": []
    },
    {
      "cell_type": "code",
      "source": [
        "print (\"training datasets.......\\n\")\n",
        "y_test,y_pred = train(X_train,y_train,X_test)"
      ],
      "metadata": {
        "colab": {
          "base_uri": "https://localhost:8080/",
          "height": 382
        },
        "id": "Kvh2HEB81oUW",
        "outputId": "2bd5cdff-4ed5-4ed8-8364-ae1e6cad80df"
      },
      "execution_count": 134,
      "outputs": [
        {
          "output_type": "stream",
          "name": "stdout",
          "text": [
            "training datasets.......\n",
            "\n",
            "The best classifier is:  SVC(gamma=31.622776601683793)\n",
            "[0.91796009 0.92904656 0.92461197 0.9556541  0.93777778]\n",
            "Estimated score: 0.93301 (+/- 0.00651)\n"
          ]
        },
        {
          "output_type": "display_data",
          "data": {
            "text/plain": [
              "<Figure size 432x288 with 1 Axes>"
            ],
            "image/png": "[encoded data removed]"
          },
          "metadata": {
            "needs_background": "light"
          }
        }
      ]
    },
    {
      "cell_type": "code",
      "source": [
        "print ('Classification Accuracy on Test dataset: ' ,accuracy_score(y_test, y_pred))"
      ],
      "metadata": {
        "colab": {
          "base_uri": "https://localhost:8080/"
        },
        "id": "xTT-ngc81vQO",
        "outputId": "120bd3fb-646d-46db-c860-8aafc662d4c1"
      },
      "execution_count": 136,
      "outputs": [
        {
          "output_type": "stream",
          "name": "stdout",
          "text": [
            "Classification Accuracy on Test dataset:  0.9024822695035462\n"
          ]
        }
      ]
    },
    {
      "cell_type": "code",
      "source": [
        "cm=confusion_matrix(y_test, y_pred)\n",
        "print('Confusion matrix, without normalization')\n",
        "print(cm)\n",
        "plot_confusion_matrix(cm)"
      ],
      "metadata": {
        "colab": {
          "base_uri": "https://localhost:8080/",
          "height": 363
        },
        "id": "XLd-jviKCJd9",
        "outputId": "75642f0f-71c8-4049-f703-6cd0ab46f9c9"
      },
      "execution_count": 137,
      "outputs": [
        {
          "output_type": "stream",
          "name": "stdout",
          "text": [
            "Confusion matrix, without normalization\n",
            "[[262   6]\n",
            " [ 49 247]]\n"
          ]
        },
        {
          "output_type": "display_data",
          "data": {
            "text/plain": [
              "<Figure size 432x288 with 2 Axes>"
            ],
            "image/png": "[encoded data removed]"
          },
          "metadata": {
            "needs_background": "light"
          }
        }
      ]
    },
    {
      "cell_type": "code",
      "source": [
        "cm_normalized = cm.astype('float') / cm.sum(axis=1)[:, np.newaxis]\n",
        "print('Normalized confusion matrix')\n",
        "print(cm_normalized)\n",
        "plot_confusion_matrix(cm_normalized, title='Normalized confusion matrix')"
      ],
      "metadata": {
        "colab": {
          "base_uri": "https://localhost:8080/",
          "height": 363
        },
        "id": "wDDafhJcCRmB",
        "outputId": "04af5acb-92b9-429d-8dab-059853d7772d"
      },
      "execution_count": 138,
      "outputs": [
        {
          "output_type": "stream",
          "name": "stdout",
          "text": [
            "Normalized confusion matrix\n",
            "[[0.97761194 0.02238806]\n",
            " [0.16554054 0.83445946]]\n"
          ]
        },
        {
          "output_type": "display_data",
          "data": {
            "text/plain": [
              "<Figure size 432x288 with 2 Axes>"
            ],
            "image/png": "[encoded data removed]"
          },
          "metadata": {
            "needs_background": "light"
          }
        }
      ]
    },
    {
      "cell_type": "code",
      "source": [
        "print(classification_report(y_test, y_pred, target_names=['Fake','Genuine']))"
      ],
      "metadata": {
        "colab": {
          "base_uri": "https://localhost:8080/"
        },
        "id": "NUVuRxB0CViY",
        "outputId": "dea29f1e-fb5d-4409-cfb1-df191581e786"
      },
      "execution_count": 139,
      "outputs": [
        {
          "output_type": "stream",
          "name": "stdout",
          "text": [
            "              precision    recall  f1-score   support\n",
            "\n",
            "        Fake       0.84      0.98      0.91       268\n",
            "     Genuine       0.98      0.83      0.90       296\n",
            "\n",
            "    accuracy                           0.90       564\n",
            "   macro avg       0.91      0.91      0.90       564\n",
            "weighted avg       0.91      0.90      0.90       564\n",
            "\n"
          ]
        }
      ]
    },
    {
      "cell_type": "code",
      "source": [
        "plot_roc_curve(y_test, y_pred)"
      ],
      "metadata": {
        "colab": {
          "base_uri": "https://localhost:8080/",
          "height": 330
        },
        "id": "JQ23P_XkCfRW",
        "outputId": "5fb3c627-470e-465d-a8ae-49aee4340df5"
      },
      "execution_count": 140,
      "outputs": [
        {
          "output_type": "stream",
          "name": "stdout",
          "text": [
            "False Positive rate:  [0.         0.02238806 1.        ]\n",
            "True Positive rate:  [0.         0.83445946 1.        ]\n"
          ]
        },
        {
          "output_type": "display_data",
          "data": {
            "text/plain": [
              "<Figure size 432x288 with 1 Axes>"
            ],
            "image/png": "[encoded data removed]"
          },
          "metadata": {
            "needs_background": "light"
          }
        }
      ]
    },
    {
      "cell_type": "markdown",
      "source": [
        "Random Forest"
      ],
      "metadata": {
        "id": "5poI1DWNCuiV"
      }
    },
    {
      "cell_type": "code",
      "source": [
        "def train1(X_train,y_train,X_test):\n",
        "    \"\"\" Trains and predicts dataset with a Random Forest classifier \"\"\"\n",
        "    \n",
        "    clf=RandomForestClassifier(n_estimators=40,oob_score=True)\n",
        "    clf.fit(X_train,y_train)\n",
        "    print(\"The best classifier is: \",clf)\n",
        "    # Estimate score\n",
        "    scores = model_selection.cross_val_score(clf, X_train,y_train, cv=5)\n",
        "    print (scores)\n",
        "    print('Estimated score: %0.5f (+/- %0.5f)' % (scores.mean(), scores.std() / 2))\n",
        "    title = 'Learning Curves (Random Forest)'\n",
        "    plot_learning_curve(clf, title, X_train, y_train, cv=5)\n",
        "    plt.show()\n",
        "    # Predict \n",
        "    y_pred = clf.predict(X_test)\n",
        "    return y_test,y_pred\n",
        "     "
      ],
      "metadata": {
        "id": "QLeeYm-9CkHn"
      },
      "execution_count": 143,
      "outputs": []
    },
    {
      "cell_type": "code",
      "source": [
        "print (\"training datasets.......\\n\")\n",
        "y_test1,y_pred1 = train1(X_train,y_train,X_test)"
      ],
      "metadata": {
        "colab": {
          "base_uri": "https://localhost:8080/",
          "height": 382
        },
        "id": "X8OGRBfRDAGv",
        "outputId": "0e72506d-0a59-406c-ca1b-fc13a7dbebde"
      },
      "execution_count": 146,
      "outputs": [
        {
          "output_type": "stream",
          "name": "stdout",
          "text": [
            "training datasets.......\n",
            "\n",
            "The best classifier is:  RandomForestClassifier(n_estimators=40, oob_score=True)\n",
            "[0.93569845 0.93569845 0.94456763 0.9578714  0.94444444]\n",
            "Estimated score: 0.94366 (+/- 0.00406)\n"
          ]
        },
        {
          "output_type": "display_data",
          "data": {
            "text/plain": [
              "<Figure size 432x288 with 1 Axes>"
            ],
            "image/png": "[encoded data removed]"
          },
          "metadata": {
            "needs_background": "light"
          }
        }
      ]
    },
    {
      "cell_type": "code",
      "source": [
        "print ('Classification Accuracy on Test dataset: ' ,accuracy_score(y_test1, y_pred1))"
      ],
      "metadata": {
        "colab": {
          "base_uri": "https://localhost:8080/"
        },
        "id": "w7TPt9HgDWXn",
        "outputId": "bbc52a5c-eddb-478b-d1d6-3e3760debda0"
      },
      "execution_count": 148,
      "outputs": [
        {
          "output_type": "stream",
          "name": "stdout",
          "text": [
            "Classification Accuracy on Test dataset:  0.9450354609929078\n"
          ]
        }
      ]
    },
    {
      "cell_type": "code",
      "source": [
        "cm1=confusion_matrix(y_test1, y_pred1)\n",
        "print('Confusion matrix, without normalization')\n",
        "print(cm1)\n",
        "plot_confusion_matrix(cm1)"
      ],
      "metadata": {
        "colab": {
          "base_uri": "https://localhost:8080/",
          "height": 363
        },
        "id": "rgP3yNfrDqL_",
        "outputId": "b3af1b0d-0fca-4f4b-d154-e76ceafe93f3"
      },
      "execution_count": 150,
      "outputs": [
        {
          "output_type": "stream",
          "name": "stdout",
          "text": [
            "Confusion matrix, without normalization\n",
            "[[266   2]\n",
            " [ 29 267]]\n"
          ]
        },
        {
          "output_type": "display_data",
          "data": {
            "text/plain": [
              "<Figure size 432x288 with 2 Axes>"
            ],
            "image/png": "[encoded data removed]"
          },
          "metadata": {
            "needs_background": "light"
          }
        }
      ]
    },
    {
      "cell_type": "code",
      "source": [
        "cm_normalized1 = cm1.astype('float') / cm1.sum(axis=1)[:, np.newaxis]\n",
        "print('Normalized confusion matrix')\n",
        "print(cm_normalized1)\n",
        "plot_confusion_matrix(cm_normalized1, title='Normalized confusion matrix')"
      ],
      "metadata": {
        "colab": {
          "base_uri": "https://localhost:8080/",
          "height": 363
        },
        "id": "rezvMNlDD4Ue",
        "outputId": "16be08bb-314b-43cc-f18a-c9330c862ea7"
      },
      "execution_count": 151,
      "outputs": [
        {
          "output_type": "stream",
          "name": "stdout",
          "text": [
            "Normalized confusion matrix\n",
            "[[0.99253731 0.00746269]\n",
            " [0.09797297 0.90202703]]\n"
          ]
        },
        {
          "output_type": "display_data",
          "data": {
            "text/plain": [
              "<Figure size 432x288 with 2 Axes>"
            ],
            "image/png": "[encoded data removed]"
          },
          "metadata": {
            "needs_background": "light"
          }
        }
      ]
    },
    {
      "cell_type": "code",
      "source": [
        "print(classification_report(y_test1, y_pred1, target_names=['Fake','Genuine']))"
      ],
      "metadata": {
        "colab": {
          "base_uri": "https://localhost:8080/"
        },
        "id": "nkxPbEkaERHZ",
        "outputId": "98aa9839-835a-48f1-e98c-ba0a00764b51"
      },
      "execution_count": 152,
      "outputs": [
        {
          "output_type": "stream",
          "name": "stdout",
          "text": [
            "              precision    recall  f1-score   support\n",
            "\n",
            "        Fake       0.90      0.99      0.94       268\n",
            "     Genuine       0.99      0.90      0.95       296\n",
            "\n",
            "    accuracy                           0.95       564\n",
            "   macro avg       0.95      0.95      0.95       564\n",
            "weighted avg       0.95      0.95      0.95       564\n",
            "\n"
          ]
        }
      ]
    },
    {
      "cell_type": "code",
      "source": [
        "plot_roc_curve(y_test1, y_pred1)"
      ],
      "metadata": {
        "colab": {
          "base_uri": "https://localhost:8080/",
          "height": 330
        },
        "id": "Nnm0582IEXIT",
        "outputId": "cbbcc79b-8b41-47a1-dfef-afc413bede1c"
      },
      "execution_count": 153,
      "outputs": [
        {
          "output_type": "stream",
          "name": "stdout",
          "text": [
            "False Positive rate:  [0.         0.00746269 1.        ]\n",
            "True Positive rate:  [0.         0.90202703 1.        ]\n"
          ]
        },
        {
          "output_type": "display_data",
          "data": {
            "text/plain": [
              "<Figure size 432x288 with 1 Axes>"
            ],
            "image/png": "[encoded data removed]"
          },
          "metadata": {
            "needs_background": "light"
          }
        }
      ]
    },
    {
      "cell_type": "markdown",
      "source": [
        "\n",
        "\n",
        "---\n",
        "\n"
      ],
      "metadata": {
        "id": "6uxgKmIsEsIs"
      }
    }
  ]
}